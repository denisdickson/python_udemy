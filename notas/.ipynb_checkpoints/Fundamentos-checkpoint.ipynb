{
 "cells": [
  {
   "cell_type": "code",
   "execution_count": 14,
   "metadata": {},
   "outputs": [],
   "source": [
    "\n",
    "##Primeiros exemplos "
   ]
  },
  {
   "cell_type": "code",
   "execution_count": 17,
   "metadata": {
    "scrolled": true
   },
   "outputs": [
    {
     "name": "stdout",
     "output_type": "stream",
     "text": [
      "primeiro programa\n",
      "Help on built-in function print in module builtins:\n",
      "\n",
      "print(...)\n",
      "    print(value, ..., sep=' ', end='\\n', file=sys.stdout, flush=False)\n",
      "    \n",
      "    Prints the values to a stream, or to sys.stdout by default.\n",
      "    Optional keyword arguments:\n",
      "    file:  a file-like object (stream); defaults to the current sys.stdout.\n",
      "    sep:   string inserted between values, default a space.\n",
      "    end:   string appended after the last value, default a newline.\n",
      "    flush: whether to forcibly flush the stream.\n",
      "\n"
     ]
    }
   ],
   "source": [
    "print('primeiro programa')\n",
    "1 + 2\n",
    "\n",
    "help(print)"
   ]
  },
  {
   "cell_type": "code",
   "execution_count": 19,
   "metadata": {},
   "outputs": [],
   "source": [
    "#Tipos básico"
   ]
  },
  {
   "cell_type": "code",
   "execution_count": 33,
   "metadata": {},
   "outputs": [
    {
     "name": "stdout",
     "output_type": "stream",
     "text": [
      "True T tem de ser maiusculo\n",
      "False F tem de ser maiusculo\n",
      "2.2 int e float\n",
      "Aqui eu falo na minha lingua, tipo string\n",
      "Voceé muito muito muito legal\n",
      "1\n",
      "{'nome': 'Pedro', 'idade': 27}\n"
     ]
    }
   ],
   "source": [
    "print(True, 'T tem de ser maiusculo')\n",
    "print(False, 'F tem de ser maiusculo')\n",
    "print(1.2 + 1 ,'int e float')\n",
    "print('Aqui eu falo na minha lingua, tipo string')\n",
    "\n",
    "print('Voceé '+3* 'muito '+ 'legal')\n",
    "\n",
    "#print(3 + '3') --> ambiguidade \n",
    "lista= [1,2,3] \n",
    "discionario = {'nome':'Pedro', 'idade':27}\n",
    "print(lista[0])\n",
    "print(discionario)\n",
    "#print('none')"
   ]
  },
  {
   "cell_type": "code",
   "execution_count": 34,
   "metadata": {},
   "outputs": [],
   "source": [
    "#Comentários"
   ]
  },
  {
   "cell_type": "code",
   "execution_count": 36,
   "metadata": {},
   "outputs": [],
   "source": [
    "# ctrl + fn + / atalho comentário unico ''' comentarios de multiplas linhas"
   ]
  },
  {
   "cell_type": "code",
   "execution_count": 40,
   "metadata": {},
   "outputs": [
    {
     "name": "stdout",
     "output_type": "stream",
     "text": [
      "5\n",
      "-3\n",
      "10.6\n",
      "3.1333333333333333\n",
      "3.0\n",
      "256\n",
      "1\n",
      "46005119909369701466112\n",
      "71.1849179092582\n"
     ]
    }
   ],
   "source": [
    "##Operadores aritimeticos -- binarios -- dois operandos . operador no meio\n",
    "\n",
    "print(2+3)\n",
    "print(4-7)\n",
    "print(2* 5.3)\n",
    "print(9.4 / 3)\n",
    "print(9.4//3)\n",
    "print(2 ** 8)##exponeciação\n",
    "print(10 % 3)# módulo, retorna apenas o resto , ou seja, 1\n",
    "\n",
    "a = 12 \n",
    "b = 21\n",
    "print(a ** b)\n",
    "\n",
    "##desafio, percentual do salario em relação as despesas\n",
    "\n",
    "salario = 3450.45\n",
    "despesas= 2456.2\n",
    "\n",
    "percentual = despesas * 100 / salario \n",
    "print(percentual)\n",
    "##acertei miseravi kkkk\n"
   ]
  },
  {
   "cell_type": "code",
   "execution_count": null,
   "metadata": {},
   "outputs": [],
   "source": []
  },
  {
   "cell_type": "code",
   "execution_count": 3,
   "metadata": {
    "scrolled": false
   },
   "outputs": [
    {
     "data": {
      "text/plain": [
       "3"
      ]
     },
     "execution_count": 3,
     "metadata": {},
     "output_type": "execute_result"
    }
   ],
   "source": [
    "##Desafio operadores lógicos \n",
    "\n",
    "trabalhoTerca = True \n",
    "trabalhoQuinta = G\n",
    "\n",
    "\n",
    "\n",
    "\n"
   ]
  }
 ],
 "metadata": {
  "kernelspec": {
   "display_name": "Python 3",
   "language": "python",
   "name": "python3"
  },
  "language_info": {
   "codemirror_mode": {
    "name": "ipython",
    "version": 3
   },
   "file_extension": ".py",
   "mimetype": "text/x-python",
   "name": "python",
   "nbconvert_exporter": "python",
   "pygments_lexer": "ipython3",
   "version": "3.8.3"
  }
 },
 "nbformat": 4,
 "nbformat_minor": 4
}
