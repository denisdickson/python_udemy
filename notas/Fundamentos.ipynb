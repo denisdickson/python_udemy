{
 "cells": [
  {
   "cell_type": "markdown",
   "metadata": {},
   "source": [
    "# Primeiros Exemplos"
   ]
  },
  {
   "cell_type": "code",
   "execution_count": 17,
   "metadata": {
    "scrolled": true
   },
   "outputs": [
    {
     "name": "stdout",
     "output_type": "stream",
     "text": [
      "primeiro programa\n",
      "Help on built-in function print in module builtins:\n",
      "\n",
      "print(...)\n",
      "    print(value, ..., sep=' ', end='\\n', file=sys.stdout, flush=False)\n",
      "    \n",
      "    Prints the values to a stream, or to sys.stdout by default.\n",
      "    Optional keyword arguments:\n",
      "    file:  a file-like object (stream); defaults to the current sys.stdout.\n",
      "    sep:   string inserted between values, default a space.\n",
      "    end:   string appended after the last value, default a newline.\n",
      "    flush: whether to forcibly flush the stream.\n",
      "\n"
     ]
    }
   ],
   "source": [
    "print('primeiro programa')\n",
    "1 + 2\n",
    "\n",
    "help(print)"
   ]
  },
  {
   "cell_type": "markdown",
   "metadata": {},
   "source": [
    "# Tipos Básicos "
   ]
  },
  {
   "cell_type": "code",
   "execution_count": 33,
   "metadata": {},
   "outputs": [
    {
     "name": "stdout",
     "output_type": "stream",
     "text": [
      "True T tem de ser maiusculo\n",
      "False F tem de ser maiusculo\n",
      "2.2 int e float\n",
      "Aqui eu falo na minha lingua, tipo string\n",
      "Voceé muito muito muito legal\n",
      "1\n",
      "{'nome': 'Pedro', 'idade': 27}\n"
     ]
    }
   ],
   "source": [
    "print(True, 'T tem de ser maiusculo')\n",
    "print(False, 'F tem de ser maiusculo')\n",
    "print(1.2 + 1 ,'int e float')\n",
    "print('Aqui eu falo na minha lingua, tipo string')\n",
    "\n",
    "print('Voceé '+3* 'muito '+ 'legal')\n",
    "\n",
    "#print(3 + '3') --> ambiguidade \n",
    "lista= [1,2,3] \n",
    "discionario = {'nome':'Pedro', 'idade':27}\n",
    "print(lista[0])\n",
    "print(discionario)\n",
    "#print('none')"
   ]
  },
  {
   "cell_type": "markdown",
   "metadata": {},
   "source": [
    "#Comentários\n",
    "\n",
    "# ctrl + fn + / atalho comentário unico ''' comentarios de multiplas linhas\n",
    "\n",
    "##Operadores aritimeticos -- binarios -- dois operandos . operador no meio\n",
    "\n",
    "print(2+3)\n",
    "print(4-7)\n",
    "print(2* 5.3)\n",
    "print(9.4 / 3)\n",
    "print(9.4//3)\n",
    "print(2 ** 8)##exponeciação\n",
    "print(10 % 3)# módulo, retorna apenas o resto , ou seja, 1\n",
    "\n",
    "a = 12 \n",
    "b = 21\n",
    "print(a ** b)\n",
    "\n",
    "##desafio, percentual do salario em relação as despesas\n",
    "\n",
    "salario = 3450.45\n",
    "despesas= 2456.2\n",
    "\n",
    "percentual = despesas * 100 / salario \n",
    "print(percentual)\n",
    "##acertei miseravi kkkk\n"
   ]
  },
  {
   "cell_type": "code",
   "execution_count": null,
   "metadata": {},
   "outputs": [],
   "source": []
  },
  {
   "cell_type": "code",
   "execution_count": 26,
   "metadata": {
    "scrolled": false
   },
   "outputs": [
    {
     "name": "stdout",
     "output_type": "stream",
     "text": [
      "tv50=True tv32=False Sorvetinho = True Saudavel =False\n"
     ]
    }
   ],
   "source": [
    "##Desafio operadores lógicos \n",
    "\n",
    "trabalhoTerca = True \n",
    "trabalhoQuinta = True\n",
    "\n",
    "\n",
    "\"\"\"\n",
    "- cconfirmado os 2 : tv 50' + sorvetinho\n",
    "- confirmado apenas 1 : tv 32' + sorvetinho \n",
    "- nenhum confirmado: fica em casa \n",
    "\"\"\"\n",
    "\n",
    "tv50= trabalhoTerca and trabalhoQuinta\n",
    "sorvetinho = trabalhoTerca or trabalhoQuinta\n",
    "tv32= trabalhoTerca != trabalhoQuinta\n",
    "Saudavel = not sorvete\n",
    "\n",
    "\n",
    "\n",
    "print(\"tv50={} tv32={} Sorvetinho = {} Saudavel ={}\"\n",
    "     .format(tv50,tv32, sorvetinho, Saudavel))\n",
    "\n",
    "## metodo format -- > \"{1},{0} = {2}\" .format(1, False , 'resultado')"
   ]
  },
  {
   "cell_type": "markdown",
   "metadata": {},
   "source": [
    "\n",
    "# Operadores ternarios"
   ]
  },
  {
   "cell_type": "code",
   "execution_count": 39,
   "metadata": {},
   "outputs": [
    {
     "name": "stdout",
     "output_type": "stream",
     "text": [
      "Today my clothes are wet\n",
      "Today my clothes are wet\n"
     ]
    }
   ],
   "source": [
    "itsRaining = False\n",
    "itsRaining = True\n",
    "print('Today my clothes are ' + ('Dry' , 'wet') [itsRaining])\n",
    "print('Today my clothes are ' + ( 'wet' if itsRaining else 'dry') )\n"
   ]
  },
  {
   "cell_type": "markdown",
   "metadata": {},
   "source": [
    "# Operadores "
   ]
  },
  {
   "cell_type": "code",
   "execution_count": 38,
   "metadata": {
    "scrolled": true
   },
   "outputs": [
    {
     "data": {
      "text/plain": [
       "False"
      ]
     },
     "execution_count": 38,
     "metadata": {},
     "output_type": "execute_result"
    }
   ],
   "source": [
    "list = [1,2,3, 'Ana', 'Carla']\n",
    "\n",
    "2 in list\n",
    "'Ana' not in list\n",
    "\n",
    "x = 3\n",
    "y = x\n",
    "z = 3\n",
    "x is y\n",
    "y is z\n",
    "x is not z"
   ]
  },
  {
   "cell_type": "markdown",
   "metadata": {},
   "source": [
    "# Strings "
   ]
  },
  {
   "cell_type": "code",
   "execution_count": 57,
   "metadata": {},
   "outputs": [
    {
     "data": {
      "text/plain": [
       "'100000'"
      ]
     },
     "execution_count": 57,
     "metadata": {},
     "output_type": "execute_result"
    }
   ],
   "source": [
    "#dir(str)\n",
    "\n",
    "nome = 'Denis Dickson'\n",
    "nome[1:]\n",
    "nome[-13:]\n",
    "nome[:20]\n",
    "nome [1::6]\n",
    "\n",
    "numero = '100000'\n",
    "numero[::1]\n",
    "\n",
    "#doc = \" TExto com multiplas \\n linhas\"\n",
    "\n",
    "#doc = TExto com multiplas \n",
    "#linhas\"\"\"\n",
    "#doc"
   ]
  },
  {
   "cell_type": "code",
   "execution_count": 73,
   "metadata": {},
   "outputs": [
    {
     "name": "stdout",
     "output_type": "stream",
     "text": [
      "Help on method_descriptor:\n",
      "\n",
      "center(self, width, fillchar=' ', /)\n",
      "    Return a centered string of length width.\n",
      "    \n",
      "    Padding is done using the specified fill character (default is a space).\n",
      "\n"
     ]
    }
   ],
   "source": [
    "frase = \"Python é uma linguagem excelente\"\n",
    "'py' in frase\n",
    "'ing' in frase\n",
    "len(frase)\n",
    "frase.lower()\n",
    "frase\n",
    "frase.upper() #todas letras maiusculas \n",
    "\n",
    "frase = frase.lower()\n",
    "frase\n",
    "\n",
    "frase.split()\n",
    "frase.split('.')# quebra fase de acordo com letra\n",
    "\n",
    "dir(str)\n",
    "help(str.center)"
   ]
  },
  {
   "cell_type": "markdown",
   "metadata": {},
   "source": [
    "# Listas"
   ]
  },
  {
   "cell_type": "code",
   "execution_count": 60,
   "metadata": {},
   "outputs": [
    {
     "data": {
      "text/plain": [
       "['Lua', 'Denis']"
      ]
     },
     "execution_count": 60,
     "metadata": {},
     "output_type": "execute_result"
    }
   ],
   "source": [
    "lista = [ ]\n",
    "type(lista)\n",
    "dir(lista)\n",
    "#help(lista)\n",
    "\n",
    "len(lista)\n",
    "lista.append(1)\n",
    "lista.append(5)\n",
    "lista\n",
    "len(lista)\n",
    "\n",
    "nova_lista =  [1,5, 'Ana','Bia']\n",
    "nova_lista\n",
    "nova_lista.remove('Ana')\n",
    "nova_lista\n",
    "nova_lista.reverse()\n",
    "nova_lista\n",
    "\n",
    "nova_lista.index('Bia')\n",
    "\n",
    "'Ana' in nova_lista # verificando se há string dentro da lista\n",
    "nova_lista[0] # acessando elementos da lista pelo index\n",
    "nova_lista[-0]\n",
    "\n",
    "lista2 = ['Ana' , 'Lia' , 'Lua', 'Denis' , 'Sara']\n",
    "lista2[2:2]\n",
    "lista2\n",
    "lista2[1:-2]\n",
    "lista[:]\n",
    "del lista2[1]\n",
    "lista2\n",
    "del lista2[0]\n",
    "del lista2[2]\n",
    "lista2"
   ]
  },
  {
   "cell_type": "markdown",
   "metadata": {},
   "source": [
    "# Tupla"
   ]
  },
  {
   "cell_type": "code",
   "execution_count": 75,
   "metadata": {},
   "outputs": [
    {
     "data": {
      "text/plain": [
       "0"
      ]
     },
     "execution_count": 75,
     "metadata": {},
     "output_type": "execute_result"
    }
   ],
   "source": [
    "tupla = tuple()\n",
    "\n",
    "tupla = ()\n",
    "type(tupla)\n",
    "dir(tuple)\n",
    "#help(tuple)\n",
    "\n",
    "tupla = ('um')\n",
    "type(tupla)\n",
    "\n",
    "tupla = ('um', )\n",
    "type(tupla)\n",
    "\n",
    "tupla[0]\n",
    "\n",
    "#tupla[0]= 'novo'\n",
    "#TypeError: 'tuple' object does not support item assignment\n",
    "\n",
    "cores = ('verde', 'azul', 'vermelho', 'preto', 'branco')\n",
    "cores[0]\n",
    "cores [-1]\n",
    "type(cores)\n",
    "cores.index('verde')\n"
   ]
  },
  {
   "cell_type": "markdown",
   "metadata": {},
   "source": [
    "# Dicionarios "
   ]
  },
  {
   "cell_type": "code",
   "execution_count": 1,
   "metadata": {},
   "outputs": [
    {
     "data": {
      "text/plain": [
       "['propriedade não existe']"
      ]
     },
     "execution_count": 1,
     "metadata": {},
     "output_type": "execute_result"
    }
   ],
   "source": [
    "pessoa = {'nome':'prof. ana', 'idade': 38, 'cursos':['ingles', 'portugues'] }\n",
    "type(pessoa) # Estrutura de chave e valor                                                 \n",
    "dir(pessoa)\n",
    "len(pessoa)\n",
    "\n",
    "pessoa['cursos'][0]\n",
    "\n",
    "pessoa.keys()\n",
    "pessoa.values()\n",
    "pessoa.items()\n",
    "\n",
    "pessoa.get('idade')\n",
    "pessoa.get('tags', ['propriedade não existe'])\n",
    "\n",
    "\n"
   ]
  },
  {
   "cell_type": "code",
   "execution_count": null,
   "metadata": {},
   "outputs": [],
   "source": []
  }
 ],
 "metadata": {
  "kernelspec": {
   "display_name": "Python 3",
   "language": "python",
   "name": "python3"
  },
  "language_info": {
   "codemirror_mode": {
    "name": "ipython",
    "version": 3
   },
   "file_extension": ".py",
   "mimetype": "text/x-python",
   "name": "python",
   "nbconvert_exporter": "python",
   "pygments_lexer": "ipython3",
   "version": "3.8.5"
  }
 },
 "nbformat": 4,
 "nbformat_minor": 4
}
